{
 "cells": [
  {
   "cell_type": "code",
   "execution_count": 1,
   "id": "a3ceaf98-ca37-4392-9dec-8919739a8f9c",
   "metadata": {},
   "outputs": [],
   "source": [
    "documents = [\n",
    "    \"AI is transforming the world.\",\n",
    "    \"Generative AI models are powerful.\",\n",
    "    \"Data science uses machine learning.\",\n",
    "    \"AI can help businesses grow.\",\n",
    "    \"Machine learning improves predictions.\",\n",
    "    \"my laptop has 16 gn RAG\",\n",
    "    \"I am using iphone\",\n",
    "    \"I am using apple and asus laptop\",\n",
    "    \"My laptop is not working\"\n",
    "]\n"
   ]
  },
  {
   "cell_type": "code",
   "execution_count": 2,
   "id": "3e71da4a-f8c5-4af0-bef6-f38018631f5b",
   "metadata": {},
   "outputs": [
    {
     "name": "stderr",
     "output_type": "stream",
     "text": [
      "c:\\Users\\labuser\\Downloads\\sessions\\.venv\\Lib\\site-packages\\tqdm\\auto.py:21: TqdmWarning: IProgress not found. Please update jupyter and ipywidgets. See https://ipywidgets.readthedocs.io/en/stable/user_install.html\n",
      "  from .autonotebook import tqdm as notebook_tqdm\n"
     ]
    }
   ],
   "source": [
    "from sentence_transformers import SentenceTransformer"
   ]
  },
  {
   "cell_type": "code",
   "execution_count": 3,
   "id": "764c0b71-0058-4be9-a92b-0347eb42b635",
   "metadata": {},
   "outputs": [],
   "source": [
    "model=SentenceTransformer('all-MiniLM-L6-v2')"
   ]
  },
  {
   "cell_type": "code",
   "execution_count": 4,
   "id": "0e24e209-1640-4ba8-b210-b3d67a9313c1",
   "metadata": {},
   "outputs": [
    {
     "name": "stderr",
     "output_type": "stream",
     "text": [
      "c:\\Users\\labuser\\Downloads\\sessions\\.venv\\Lib\\site-packages\\torch\\nn\\modules\\module.py:1762: FutureWarning: `encoder_attention_mask` is deprecated and will be removed in version 4.55.0 for `BertSdpaSelfAttention.forward`.\n",
      "  return forward_call(*args, **kwargs)\n"
     ]
    }
   ],
   "source": [
    "document_embedding=model.encode(documents)"
   ]
  },
  {
   "cell_type": "code",
   "execution_count": 5,
   "id": "9cda7825-2f48-4184-8bc1-42ec80e504d6",
   "metadata": {},
   "outputs": [
    {
     "data": {
      "text/plain": [
       "9"
      ]
     },
     "execution_count": 5,
     "metadata": {},
     "output_type": "execute_result"
    }
   ],
   "source": [
    "len(documents)"
   ]
  },
  {
   "cell_type": "code",
   "execution_count": 6,
   "id": "2436729c-c5c0-4873-a76b-46ac67158f70",
   "metadata": {},
   "outputs": [
    {
     "data": {
      "text/plain": [
       "(9, 384)"
      ]
     },
     "execution_count": 6,
     "metadata": {},
     "output_type": "execute_result"
    }
   ],
   "source": [
    "document_embedding.shape"
   ]
  },
  {
   "cell_type": "code",
   "execution_count": 7,
   "id": "d6b69cb2-ac79-44f5-9228-b8433ee9d444",
   "metadata": {},
   "outputs": [],
   "source": [
    "#document_embedding[0]"
   ]
  },
  {
   "cell_type": "code",
   "execution_count": 10,
   "id": "500895a8-db7b-442a-8254-87dc569f8a63",
   "metadata": {},
   "outputs": [],
   "source": [
    "import numpy as np"
   ]
  },
  {
   "cell_type": "code",
   "execution_count": 11,
   "id": "28bb89bd-ea39-4415-9f78-8aa71b684d0c",
   "metadata": {},
   "outputs": [],
   "source": [
    "import faiss\n",
    "index=faiss.IndexFlatL2(384)\n",
    "index.add(np.array(document_embedding))"
   ]
  },
  {
   "cell_type": "code",
   "execution_count": 12,
   "id": "efb9f75e-4ec6-49e2-8c5a-4ace50d27cac",
   "metadata": {},
   "outputs": [],
   "source": [
    "query=\"what is RAM SIze of my laptop\"\n",
    "query_embedding=model.encode([query])\n",
    "#query_embedding"
   ]
  },
  {
   "cell_type": "code",
   "execution_count": 13,
   "id": "85117ece-5112-4b99-b663-f359537be460",
   "metadata": {},
   "outputs": [
    {
     "name": "stdout",
     "output_type": "stream",
     "text": [
      "my laptop has 16 gn RAG\n",
      "My laptop is not working\n",
      "I am using apple and asus laptop\n"
     ]
    }
   ],
   "source": [
    "k=3\n",
    "D,I = index.search(np.array(query_embedding),k)\n",
    "\n",
    "for i in I[0]:\n",
    "    print(documents[i])"
   ]
  },
  {
   "cell_type": "code",
   "execution_count": null,
   "id": "85cbd1ff-d375-408e-aaef-0deb3c0d53ac",
   "metadata": {},
   "outputs": [],
   "source": []
  }
 ],
 "metadata": {
  "kernelspec": {
   "display_name": ".venv (3.13.5)",
   "language": "python",
   "name": "python3"
  },
  "language_info": {
   "codemirror_mode": {
    "name": "ipython",
    "version": 3
   },
   "file_extension": ".py",
   "mimetype": "text/x-python",
   "name": "python",
   "nbconvert_exporter": "python",
   "pygments_lexer": "ipython3",
   "version": "3.13.5"
  }
 },
 "nbformat": 4,
 "nbformat_minor": 5
}
