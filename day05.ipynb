{
 "cells": [
  {
   "cell_type": "code",
   "execution_count": 19,
   "id": "a288e82a",
   "metadata": {},
   "outputs": [
    {
     "data": {
      "text/plain": [
       "True"
      ]
     },
     "execution_count": 19,
     "metadata": {},
     "output_type": "execute_result"
    }
   ],
   "source": [
    "import smtplib\n",
    "from email.mime.text import MIMEText\n",
    "import os\n",
    "from dotenv import load_dotenv\n",
    "load_dotenv()"
   ]
  },
  {
   "cell_type": "code",
   "execution_count": 20,
   "id": "d2124fdd",
   "metadata": {},
   "outputs": [
    {
     "name": "stdout",
     "output_type": "stream",
     "text": [
      "APP_PASSWORD=**bvmjvtwducvqljla**\n",
      "Email sent successfully!\n"
     ]
    }
   ],
   "source": [
    "send_email = \"pikca.photos0012@gmail.com\"\n",
    "passw = os.getenv(\"APP_PASSWORD\")  # Use your Gmail App Password here\n",
    "#print(passw) with symbols before and after\n",
    "print(f\"APP_PASSWORD=**{passw}**\")\n",
    "to = \"pekca92@gmail.com\"\n",
    "subject = \"test email from agent\"\n",
    "body = \"hey this is test email from jupyter using gmail SMTP\"\n",
    "\n",
    "message = MIMEText(body)\n",
    "message['Subject'] = subject\n",
    "message['From'] = send_email\n",
    "message['To'] = to\n",
    "\n",
    "try:\n",
    "    with smtplib.SMTP(\"smtp.gmail.com\", 587) as server:\n",
    "        server.starttls()\n",
    "        server.login(send_email, passw)\n",
    "        server.sendmail(send_email, to, message.as_string())\n",
    "    print(\"Email sent successfully!\")\n",
    "except Exception as e:\n",
    "    print(f\"Failed to send email: {e}\\nIf you see 'Application-specific password required', follow the instructions to create a Gmail App Password.\")"
   ]
  }
 ],
 "metadata": {
  "kernelspec": {
   "display_name": ".venv (3.13.5)",
   "language": "python",
   "name": "python3"
  },
  "language_info": {
   "codemirror_mode": {
    "name": "ipython",
    "version": 3
   },
   "file_extension": ".py",
   "mimetype": "text/x-python",
   "name": "python",
   "nbconvert_exporter": "python",
   "pygments_lexer": "ipython3",
   "version": "3.13.5"
  }
 },
 "nbformat": 4,
 "nbformat_minor": 5
}
